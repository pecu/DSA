{
 "cells": [
  {
   "cell_type": "code",
   "execution_count": 1,
   "metadata": {},
   "outputs": [],
   "source": [
    "def quicksort(x):\n",
    "      #如果數列中的數字不到兩個就不用跑下面的程式碼\n",
    "      if len(x) < 2:\n",
    "          return x\n",
    "      else:\n",
    "          pivot = x[0]#統一用數列的第一個數作為pivot，比pivot小的放less[]裡，大的放more[]裡\n",
    "          less = [i for i in x[1:] if i <= pivot]\n",
    "          more = [i for i in x[1:] if i > pivot]\n",
    "          return quicksort(less) + [pivot] + quicksort(more)#將新的數列重整，若less[]與more[]中還有兩個或以上的數字，則重複分類一次\n",
    "          #直到所有list中都只剩下一個數，就會停止分類"
   ]
  },
  {
   "cell_type": "code",
   "execution_count": 2,
   "metadata": {},
   "outputs": [],
   "source": [
    "Alist=[4,7,3,0,9,8,5,1,6,2]"
   ]
  },
  {
   "cell_type": "code",
   "execution_count": 3,
   "metadata": {},
   "outputs": [
    {
     "data": {
      "text/plain": [
       "[0, 1, 2, 3, 4, 5, 6, 7, 8, 9]"
      ]
     },
     "execution_count": 3,
     "metadata": {},
     "output_type": "execute_result"
    }
   ],
   "source": [
    "quicksort(Alist)"
   ]
  },
  {
   "cell_type": "code",
   "execution_count": null,
   "metadata": {},
   "outputs": [],
   "source": []
  }
 ],
 "metadata": {
  "kernelspec": {
   "display_name": "Python 3",
   "language": "python",
   "name": "python3"
  },
  "language_info": {
   "codemirror_mode": {
    "name": "ipython",
    "version": 3
   },
   "file_extension": ".py",
   "mimetype": "text/x-python",
   "name": "python",
   "nbconvert_exporter": "python",
   "pygments_lexer": "ipython3",
   "version": "3.7.3"
  }
 },
 "nbformat": 4,
 "nbformat_minor": 2
}