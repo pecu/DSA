{
 "cells": [
  {
   "cell_type": "code",
   "execution_count": 1,
   "id": "992b3800",
   "metadata": {},
   "outputs": [],
   "source": [
    "import hashlib\n",
    "\n",
    "class HashTable:\n",
    "    def __init__(self):\n",
    "        self.size = 10\n",
    "        self.keys = [None] * self.size\n",
    "        self.values = [None] * self.size\n",
    "\n",
    "    def hash_function(self, key):\n",
    "        hash_object = hashlib.md5(key.encode())\n",
    "        return int(hash_object.hexdigest(), 16) % self.size\n",
    "\n",
    "    def rehash(self, old_hash):\n",
    "        return (old_hash + 1) % self.size\n",
    "\n",
    "    def put(self, key, value):\n",
    "        hash_value = self.hash_function(key)\n",
    "        if self.keys[hash_value] == None:\n",
    "            self.keys[hash_value] = key\n",
    "            self.values[hash_value] = value\n",
    "        else:\n",
    "            if self.keys[hash_value] == key:\n",
    "                self.values[hash_value] = value  # replace\n",
    "            else:\n",
    "                next_slot = self.rehash(hash_value)\n",
    "                while self.keys[next_slot] != None and self.keys[next_slot] != key:\n",
    "                    next_slot = self.rehash(next_slot)\n",
    "                if self.keys[next_slot] == None:\n",
    "                    self.keys[next_slot] = key\n",
    "                    self.values[next_slot] = value\n",
    "                else:\n",
    "                    self.values[next_slot] = value  # replace\n",
    "\n",
    "    def get(self, key):\n",
    "        start_slot = self.hash_function(key)\n",
    "        value = None\n",
    "        stop = False\n",
    "        found = False\n",
    "        position = start_slot\n",
    "        while self.keys[position] != None and not found and not stop:\n",
    "            if self.keys[position] == key:\n",
    "                found = True\n",
    "                value = self.values[position]\n",
    "            else:\n",
    "                position = self.rehash(position)\n",
    "                if position == start_slot:\n",
    "                    stop = True\n",
    "        return value\n"
   ]
  },
  {
   "cell_type": "code",
   "execution_count": 2,
   "id": "6be8c543",
   "metadata": {},
   "outputs": [
    {
     "name": "stdout",
     "output_type": "stream",
     "text": [
      "3\n",
      "2\n",
      "1\n",
      "None\n"
     ]
    }
   ],
   "source": [
    "hash_table = HashTable()\n",
    "\n",
    "hash_table.put(\"apple\", 3)\n",
    "hash_table.put(\"banana\", 2)\n",
    "hash_table.put(\"cherry\", 1)\n",
    "\n",
    "print(hash_table.get(\"apple\"))  # 3\n",
    "print(hash_table.get(\"banana\"))  # 2\n",
    "print(hash_table.get(\"cherry\"))  # 1\n",
    "print(hash_table.get(\"durian\"))  # None\n"
   ]
  },
  {
   "cell_type": "code",
   "execution_count": null,
   "id": "6ea8f90a",
   "metadata": {},
   "outputs": [],
   "source": []
  }
 ],
 "metadata": {
  "kernelspec": {
   "display_name": "Python 3 (ipykernel)",
   "language": "python",
   "name": "python3"
  },
  "language_info": {
   "codemirror_mode": {
    "name": "ipython",
    "version": 3
   },
   "file_extension": ".py",
   "mimetype": "text/x-python",
   "name": "python",
   "nbconvert_exporter": "python",
   "pygments_lexer": "ipython3",
   "version": "3.9.12"
  }
 },
 "nbformat": 4,
 "nbformat_minor": 5
}
