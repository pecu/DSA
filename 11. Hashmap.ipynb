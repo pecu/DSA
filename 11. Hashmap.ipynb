{
 "cells": [
  {
   "cell_type": "code",
   "execution_count": 1,
   "id": "13fb3b52",
   "metadata": {},
   "outputs": [],
   "source": [
    "import hashlib\n",
    "\n",
    "class HashTable:\n",
    "    def __init__(self):\n",
    "        self.size = 10\n",
    "        self.keys = [None] * self.size\n",
    "        self.values = [None] * self.size\n",
    "\n",
    "    def hash_function(self, key):\n",
    "        hash_object = hashlib.md5(key.encode())\n",
    "        return int(hash_object.hexdigest(), 16) % self.size\n",
    "\n",
    "    def rehash(self, old_hash):\n",
    "        return (old_hash + 1) % self.size\n",
    "\n",
    "    def put(self, key, value):\n",
    "        hash_value = self.hash_function(key)\n",
    "        if self.keys[hash_value] == None:\n",
    "            self.keys[hash_value] = key\n",
    "            self.values[hash_value] = value\n",
    "        else:\n",
    "            if self.keys[hash_value] == key:\n",
    "                self.values[hash_value] = value  # replace\n",
    "            else:\n",
    "                next_slot = self.rehash(hash_value)\n",
    "                while self.keys[next_slot] != None and self.keys[next_slot] != key:\n",
    "                    next_slot = self.rehash(next_slot)\n",
    "                if self.keys[next_slot] == None:\n",
    "                    self.keys[next_slot] = key\n",
    "                    self.values[next_slot] = value\n",
    "                else:\n",
    "                    self.values[next_slot] = value  # replace\n",
    "\n",
    "    def get(self, key):\n",
    "        start_slot = self.hash_function(key)\n",
    "        value = None\n",
    "        stop = False\n",
    "        found = False\n",
    "        position = start_slot\n",
    "        while self.keys[position] != None and not found and not stop:\n",
    "            if self.keys[position] == key:\n",
    "                found = True\n",
    "                value = self.values[position]\n",
    "            else:\n",
    "                position = self.rehash(position)\n",
    "                if position == start_slot:\n",
    "                    stop = True\n",
    "        return value\n"
   ]
  },
  {
   "cell_type": "code",
   "execution_count": 2,
   "id": "34a5b361",
   "metadata": {},
   "outputs": [
    {
     "name": "stdout",
     "output_type": "stream",
     "text": [
      "3\n",
      "2\n",
      "1\n",
      "None\n"
     ]
    }
   ],
   "source": [
    "hash_table = HashTable()\n",
    "\n",
    "hash_table.put(\"apple\", 3)\n",
    "hash_table.put(\"banana\", 2)\n",
    "hash_table.put(\"cherry\", 1)\n",
    "\n",
    "print(hash_table.get(\"apple\"))  # 3\n",
    "print(hash_table.get(\"banana\"))  # 2\n",
    "print(hash_table.get(\"cherry\"))  # 1\n",
    "print(hash_table.get(\"durian\"))  # None\n"
   ]
  },
  {
   "cell_type": "code",
   "execution_count": 5,
   "id": "54bfe336",
   "metadata": {},
   "outputs": [],
   "source": [
    "import hashlib\n",
    "\n",
    "class HashMap:\n",
    "    def __init__(self):\n",
    "        self.size = 256\n",
    "        self.hashmap = [[] for _ in range(self.size)]\n",
    "\n",
    "    def _get_hash(self, key):\n",
    "        return int(hashlib.sha256(key.encode()).hexdigest(), 16) % self.size\n",
    "\n",
    "    def add(self, key, value):\n",
    "        hash_key = self._get_hash(key)\n",
    "        key_exists = False\n",
    "        bucket = self.hashmap[hash_key]\n",
    "        for i, kv in enumerate(bucket):\n",
    "            k, v = kv\n",
    "            if key == k:\n",
    "                key_exists = True\n",
    "                break\n",
    "        if key_exists:\n",
    "            bucket[i] = ((key, value))\n",
    "        else:\n",
    "            bucket.append((key, value))\n",
    "\n",
    "    def get(self, key):\n",
    "        hash_key = self._get_hash(key)\n",
    "        bucket = self.hashmap[hash_key]\n",
    "        for i, kv in enumerate(bucket):\n",
    "            k, v = kv\n",
    "            if key == k:\n",
    "                return v\n",
    "        raise KeyError(key)"
   ]
  },
  {
   "cell_type": "code",
   "execution_count": 7,
   "id": "06a4c576",
   "metadata": {},
   "outputs": [
    {
     "name": "stdout",
     "output_type": "stream",
     "text": [
      "1\n",
      "2\n",
      "3\n"
     ]
    },
    {
     "ename": "TypeError",
     "evalue": "get() takes 2 positional arguments but 3 were given",
     "output_type": "error",
     "traceback": [
      "\u001b[1;31m---------------------------------------------------------------------------\u001b[0m",
      "\u001b[1;31mTypeError\u001b[0m                                 Traceback (most recent call last)",
      "Input \u001b[1;32mIn [7]\u001b[0m, in \u001b[0;36m<cell line: 9>\u001b[1;34m()\u001b[0m\n\u001b[0;32m      7\u001b[0m \u001b[38;5;28mprint\u001b[39m(hashmap\u001b[38;5;241m.\u001b[39mget(\u001b[38;5;124m'\u001b[39m\u001b[38;5;124mbanana\u001b[39m\u001b[38;5;124m'\u001b[39m)) \u001b[38;5;66;03m# 2\u001b[39;00m\n\u001b[0;32m      8\u001b[0m \u001b[38;5;28mprint\u001b[39m(hashmap\u001b[38;5;241m.\u001b[39mget(\u001b[38;5;124m'\u001b[39m\u001b[38;5;124mcherry\u001b[39m\u001b[38;5;124m'\u001b[39m)) \u001b[38;5;66;03m# 3\u001b[39;00m\n\u001b[1;32m----> 9\u001b[0m \u001b[38;5;28mprint\u001b[39m(\u001b[43mhashmap\u001b[49m\u001b[38;5;241;43m.\u001b[39;49m\u001b[43mget\u001b[49m\u001b[43m(\u001b[49m\u001b[38;5;124;43m'\u001b[39;49m\u001b[38;5;124;43mdurian\u001b[39;49m\u001b[38;5;124;43m'\u001b[39;49m\u001b[43m,\u001b[49m\u001b[43m \u001b[49m\u001b[38;5;124;43m'\u001b[39;49m\u001b[38;5;124;43mnot found\u001b[39;49m\u001b[38;5;124;43m'\u001b[39;49m\u001b[43m)\u001b[49m)\n",
      "\u001b[1;31mTypeError\u001b[0m: get() takes 2 positional arguments but 3 were given"
     ]
    }
   ],
   "source": [
    "hashmap = HashMap()\n",
    "hashmap.add('apple', 1)\n",
    "hashmap.add('banana', 2)\n",
    "hashmap.add('cherry', 3)\n",
    "\n",
    "print(hashmap.get('apple')) # 1\n",
    "print(hashmap.get('banana')) # 2\n",
    "print(hashmap.get('cherry')) # 3\n",
    "print(hashmap.get('durian', 'not found')) # not found"
   ]
  },
  {
   "cell_type": "code",
   "execution_count": null,
   "id": "be7e66e8",
   "metadata": {},
   "outputs": [],
   "source": []
  }
 ],
 "metadata": {
  "kernelspec": {
   "display_name": "Python 3 (ipykernel)",
   "language": "python",
   "name": "python3"
  },
  "language_info": {
   "codemirror_mode": {
    "name": "ipython",
    "version": 3
   },
   "file_extension": ".py",
   "mimetype": "text/x-python",
   "name": "python",
   "nbconvert_exporter": "python",
   "pygments_lexer": "ipython3",
   "version": "3.9.12"
  }
 },
 "nbformat": 4,
 "nbformat_minor": 5
}
